{
 "cells": [
  {
   "cell_type": "code",
   "execution_count": 17,
   "metadata": {},
   "outputs": [],
   "source": [
    "import numpy as np\n",
    "import time\n",
    "import random\n",
    "import tracemalloc"
   ]
  },
  {
   "cell_type": "code",
   "execution_count": 18,
   "metadata": {},
   "outputs": [],
   "source": [
    "def reverse_array(array):\n",
    "  return array[::-1]\n",
    "\n",
    "def bubble_sort(array):\n",
    "  for i in range(len(array) - 1):\n",
    "    for j in range(len(array) - i - 1):\n",
    "      if array[j] > array[j + 1]:\n",
    "        array[j], array[j + 1] = array[j + 1], array[j]\n",
    "  return array\n",
    "\n",
    "def insertion_sort(array):\n",
    "  for i in range(1, len(array)):\n",
    "    current_element = array[i]\n",
    "    j = i - 1\n",
    "    while j >= 0 and array[j] > current_element:\n",
    "      array[j + 1] = array[j]\n",
    "      j -= 1\n",
    "    array[j + 1] = current_element\n",
    "  return array\n",
    "\n",
    "\n",
    "def quick_sort(array):\n",
    "    if len(array) <= 1:\n",
    "        return array\n",
    "    else:\n",
    "        pivot = array[0]\n",
    "        left = [x for x in array[1:] if x < pivot]\n",
    "        right = [x for x in array[1:] if x >= pivot]\n",
    "        return quick_sort(left) + [pivot] + quick_sort(right)\n",
    "\n",
    "def binary_search(array):\n",
    "  low = 0\n",
    "  high = len(array) - 1\n",
    "  mid = 0\n",
    "  value = random.choice(array.copy())\n",
    "\n",
    "\n",
    "  while low <= high:\n",
    "    mid = (low + high) // 2\n",
    "    if array[mid] == value:\n",
    "      return mid\n",
    "    elif array[mid] < value:\n",
    "      low = mid + 1\n",
    "    else:\n",
    "      high = mid - 1\n",
    "\n",
    "  return -1\n"
   ]
  },
  {
   "cell_type": "code",
   "execution_count": 19,
   "metadata": {},
   "outputs": [],
   "source": [
    "array = np.random.rand(10000)\n",
    "array = np.round(array, decimals=6)"
   ]
  },
  {
   "cell_type": "code",
   "execution_count": 20,
   "metadata": {},
   "outputs": [
    {
     "name": "stdout",
     "output_type": "stream",
     "text": [
      "0.0011425018310546875\n",
      "Memory Usage: (2947, 81246)\n"
     ]
    }
   ],
   "source": [
    " # Завдання 1: Обернути масив (reverse the array)\n",
    "\n",
    "tracemalloc.start()\n",
    "start_time = time.time()\n",
    "reverse_array(array.copy())\n",
    "time.sleep(1)\n",
    "end_time = time.time()\n",
    "print((end_time - start_time) - 1)\n",
    "memory_usage = tracemalloc.get_traced_memory()\n",
    "tracemalloc.stop()\n",
    "print(\"Memory Usage:\", memory_usage)"
   ]
  },
  {
   "cell_type": "code",
   "execution_count": 21,
   "metadata": {},
   "outputs": [
    {
     "name": "stdout",
     "output_type": "stream",
     "text": [
      "195.24434614181519\n",
      "Memory Usage: (6235, 85797)\n"
     ]
    }
   ],
   "source": [
    "# Завдання 2: Сортування бульбашкою (bubble sort)\n",
    "tracemalloc.start()\n",
    "start_time = time.time()\n",
    "bubble_sort(array.copy())\n",
    "end_time = time.time()\n",
    "print(end_time - start_time)\n",
    "memory_usage = tracemalloc.get_traced_memory()\n",
    "tracemalloc.stop()\n",
    "print(\"Memory Usage:\", memory_usage)\n"
   ]
  },
  {
   "cell_type": "code",
   "execution_count": 22,
   "metadata": {},
   "outputs": [
    {
     "name": "stdout",
     "output_type": "stream",
     "text": [
      "56.52698993682861\n",
      "Memory Usage: (4188, 83809)\n"
     ]
    }
   ],
   "source": [
    "# Завдання 3: Сортування вставкою (insertion_sort sort)\n",
    "tracemalloc.start()\n",
    "start_time = time.time()\n",
    "insertion_sort(array.copy())\n",
    "end_time = time.time()\n",
    "print(end_time - start_time)\n",
    "memory_usage = tracemalloc.get_traced_memory()\n",
    "tracemalloc.stop()\n",
    "print(\"Memory Usage:\", memory_usage)"
   ]
  },
  {
   "cell_type": "code",
   "execution_count": 23,
   "metadata": {},
   "outputs": [
    {
     "name": "stdout",
     "output_type": "stream",
     "text": [
      "0.0920100212097168\n",
      "Memory Usage: (4567, 741385)\n"
     ]
    }
   ],
   "source": [
    "# Завдання 4: Швидке сортування\n",
    "tracemalloc.start()\n",
    "start_time = time.time()\n",
    "quick_sort(array.copy())\n",
    "end_time = time.time()\n",
    "print(end_time - start_time)\n",
    "memory_usage = tracemalloc.get_traced_memory()\n",
    "tracemalloc.stop()\n",
    "print(\"Memory Usage:\", memory_usage)"
   ]
  },
  {
   "cell_type": "code",
   "execution_count": 24,
   "metadata": {},
   "outputs": [
    {
     "name": "stdout",
     "output_type": "stream",
     "text": [
      "0.001783132553100586\n",
      "Memory Usage: (3050, 83699)\n"
     ]
    }
   ],
   "source": [
    "# Завдання 5: Бінарний пошук\n",
    "tracemalloc.start()\n",
    "np.sort(array)\n",
    "start_time = time.time()\n",
    "binary_search(array)\n",
    "time.sleep(1)\n",
    "end_time = time.time()\n",
    "print((end_time - start_time) - 1)\n",
    "memory_usage = tracemalloc.get_traced_memory()\n",
    "tracemalloc.stop()\n",
    "print(\"Memory Usage:\", memory_usage)\n"
   ]
  }
 ],
 "metadata": {
  "kernelspec": {
   "display_name": "Python 3",
   "language": "python",
   "name": "python3"
  },
  "language_info": {
   "codemirror_mode": {
    "name": "ipython",
    "version": 3
   },
   "file_extension": ".py",
   "mimetype": "text/x-python",
   "name": "python",
   "nbconvert_exporter": "python",
   "pygments_lexer": "ipython3",
   "version": "3.12.2"
  }
 },
 "nbformat": 4,
 "nbformat_minor": 2
}
