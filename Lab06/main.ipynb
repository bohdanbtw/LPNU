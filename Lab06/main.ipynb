{
 "cells": [
  {
   "cell_type": "code",
   "execution_count": 6,
   "metadata": {},
   "outputs": [],
   "source": [
    "import pandas as pd\n",
    "\n",
    "url = \"https://raw.githubusercontent.com/jbrownlee/Datasets/master/pima-indians-diabetes.data.csv\"\n",
    "dataset = pd.read_csv(url)\n"
   ]
  },
  {
   "cell_type": "code",
   "execution_count": 7,
   "metadata": {},
   "outputs": [],
   "source": [
    "from sklearn.model_selection import train_test_split\n",
    "\n",
    "# Розділимо ознаки та цільову змінну\n",
    "X = dataset.iloc[:, :-1]\n",
    "y = dataset.iloc[:, -1]\n",
    "\n",
    "X_train, X_val, y_train, y_val = train_test_split(X, y, test_size=0.3, random_state=42)\n"
   ]
  },
  {
   "cell_type": "code",
   "execution_count": 8,
   "metadata": {},
   "outputs": [],
   "source": [
    "from sklearn.preprocessing import MinMaxScaler\n",
    "\n",
    "scaler = MinMaxScaler()\n",
    "X_train_scaled = scaler.fit_transform(X_train)\n",
    "X_val_scaled = scaler.transform(X_val)\n"
   ]
  },
  {
   "cell_type": "code",
   "execution_count": 9,
   "metadata": {},
   "outputs": [
    {
     "name": "stdout",
     "output_type": "stream",
     "text": [
      "Точність логістичної регресії: 0.7705627705627706\n"
     ]
    }
   ],
   "source": [
    "from sklearn.linear_model import LogisticRegression\n",
    "from sklearn.metrics import accuracy_score\n",
    "\n",
    "model = LogisticRegression()\n",
    "model.fit(X_train_scaled, y_train)\n",
    "\n",
    "y_pred = model.predict(X_val_scaled)\n",
    "accuracy = accuracy_score(y_val, y_pred)\n",
    "print(\"Точність логістичної регресії:\", accuracy)\n"
   ]
  },
  {
   "cell_type": "code",
   "execution_count": 10,
   "metadata": {},
   "outputs": [
    {
     "name": "stdout",
     "output_type": "stream",
     "text": [
      "Correlation matrix:\n",
      "              6       148        72        35         0      33.6     0.627  \\\n",
      "6      1.000000  0.143529  0.180118 -0.111758 -0.089465  0.007409 -0.004979   \n",
      "148    0.143529  1.000000  0.243080  0.042665  0.323693  0.199181  0.135252   \n",
      "72     0.180118  0.243080  1.000000  0.159545  0.057593  0.370754  0.026730   \n",
      "35    -0.111758  0.042665  0.159545  1.000000  0.451067  0.421924  0.188595   \n",
      "0     -0.089465  0.323693  0.057593  0.451067  1.000000  0.200849  0.168056   \n",
      "33.6   0.007409  0.199181  0.370754  0.421924  0.200849  1.000000  0.131008   \n",
      "0.627 -0.004979  0.135252  0.026730  0.188595  0.168056  0.131008  1.000000   \n",
      "50     0.534340  0.270254  0.253091 -0.176263 -0.059854  0.008412  0.046635   \n",
      "\n",
      "             50  \n",
      "6      0.534340  \n",
      "148    0.270254  \n",
      "72     0.253091  \n",
      "35    -0.176263  \n",
      "0     -0.059854  \n",
      "33.6   0.008412  \n",
      "0.627  0.046635  \n",
      "50     1.000000  \n",
      "Accuracy of Logistic Regression with selected features: 0.683982683982684\n"
     ]
    }
   ],
   "source": [
    "# Building the correlation matrix\n",
    "correlation_matrix = X_train.corr()\n",
    "\n",
    "# Displaying the correlation matrix\n",
    "print(\"Correlation matrix:\")\n",
    "print(correlation_matrix)\n",
    "\n",
    "# Selected features for model training\n",
    "selected_features = [4, 5, 6, 7]\n",
    "X_train_selected = X_train.iloc[:, selected_features]\n",
    "X_val_selected = X_val.iloc[:, selected_features]\n",
    "\n",
    "# Normalizing the selected features\n",
    "X_train_selected_scaled = scaler.fit_transform(X_train_selected)\n",
    "X_val_selected_scaled = scaler.transform(X_val_selected)\n",
    "\n",
    "# Training the logistic regression model on selected features\n",
    "model_selected = LogisticRegression()\n",
    "model_selected.fit(X_train_selected_scaled, y_train)\n",
    "\n",
    "# Predicting on the validation set\n",
    "y_pred_selected = model_selected.predict(X_val_selected_scaled)\n",
    "\n",
    "# Evaluating the accuracy of the model\n",
    "accuracy_selected = accuracy_score(y_val, y_pred_selected)\n",
    "print(\"Accuracy of Logistic Regression with selected features:\", accuracy_selected)\n",
    "\n",
    "import seaborn as sns\n",
    "import matplotlib.pyplot as plt\n",
    "\n",
    "# Building the correlation matrix\n",
    "correlation_matrix = X_train.corr()\n",
    "\n",
    "# Plotting the correlation matrix as a heatmap\n",
    "plt.figure(figsize=(10, 8))\n",
    "sns.heatmap(correlation_matrix, annot=True, cmap='coolwarm', fmt=\".2f\", linewidths=0.5)\n",
    "plt.title('Correlation Matrix')\n",
    "plt.xlabel('Features')\n",
    "plt.ylabel('Features')\n",
    "plt.show()\n",
    "\n"
   ]
  }
 ],
 "metadata": {
  "kernelspec": {
   "display_name": "Python 3",
   "language": "python",
   "name": "python3"
  },
  "language_info": {
   "codemirror_mode": {
    "name": "ipython",
    "version": 3
   },
   "file_extension": ".py",
   "mimetype": "text/x-python",
   "name": "python",
   "nbconvert_exporter": "python",
   "pygments_lexer": "ipython3",
   "version": "3.12.2"
  }
 },
 "nbformat": 4,
 "nbformat_minor": 2
}
